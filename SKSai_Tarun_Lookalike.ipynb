{
 "cells": [
  {
   "cell_type": "markdown",
   "id": "5c64c9b2",
   "metadata": {},
   "source": [
    "# Importing libraries "
   ]
  },
  {
   "cell_type": "code",
   "execution_count": 86,
   "id": "5ea035f4",
   "metadata": {},
   "outputs": [],
   "source": [
    "import pandas as pd\n",
    "import numpy as np\n",
    "import matplotlib.pyplot as plt\n",
    "import seaborn as sns\n",
    "%matplotlib inline"
   ]
  },
  {
   "cell_type": "markdown",
   "id": "e452f5d0",
   "metadata": {},
   "source": [
    "# Loading data "
   ]
  },
  {
   "cell_type": "code",
   "execution_count": 87,
   "id": "e39c66b2",
   "metadata": {},
   "outputs": [],
   "source": [
    "df_customers=pd.read_csv('Customers.csv')\n",
    "df_products=pd.read_csv('Products.csv')\n",
    "df_transactions=pd.read_csv('Transactions.csv')"
   ]
  },
  {
   "cell_type": "markdown",
   "id": "b905bdcc",
   "metadata": {},
   "source": [
    "# Merging the data"
   ]
  },
  {
   "cell_type": "code",
   "execution_count": 88,
   "id": "c2f71c1e",
   "metadata": {},
   "outputs": [],
   "source": [
    "transactions_with_products = df_transactions.merge(df_products, on='ProductID', how='left')\n",
    "full_data = transactions_with_products.merge(df_customers, on='CustomerID', how='left')"
   ]
  },
  {
   "cell_type": "code",
   "execution_count": 89,
   "id": "6d68a326",
   "metadata": {},
   "outputs": [],
   "source": [
    "customer_profiles = full_data.groupby('CustomerID').agg(\n",
    "    total_spent=('TotalValue', 'sum'),\n",
    "    avg_transaction_value=('TotalValue', 'mean'),\n",
    "    total_transactions=('TransactionID', 'count'),\n",
    "    total_quantity=('Quantity', 'sum'),\n",
    "    categories_purchased=('Category', lambda x: list(x.unique())),\n",
    "    regions=('Region', 'first')\n",
    ").reset_index()\n",
    "\n",
    "customer_profiles = customer_profiles.merge(\n",
    "    df_customers[['CustomerID', 'CustomerName', 'SignupDate']],\n",
    "    on='CustomerID',\n",
    "    how='left'\n",
    ")\n",
    "\n"
   ]
  },
  {
   "cell_type": "markdown",
   "id": "2254b956",
   "metadata": {},
   "source": [
    "# Encoding categories and regions"
   ]
  },
  {
   "cell_type": "code",
   "execution_count": 90,
   "id": "8b9c3500",
   "metadata": {},
   "outputs": [],
   "source": [
    "from sklearn.preprocessing import MultiLabelBinarizer\n",
    "mlb = MultiLabelBinarizer()\n",
    "categories_encoded = pd.DataFrame(\n",
    "    mlb.fit_transform(customer_profiles['categories_purchased']),\n",
    "    columns=mlb.classes_,\n",
    "    index=customer_profiles.index\n",
    ")\n",
    "\n",
    "regions_encoded = pd.get_dummies(customer_profiles['regions'], prefix='region')"
   ]
  },
  {
   "cell_type": "markdown",
   "id": "1402c03e",
   "metadata": {},
   "source": [
    "# Scaling"
   ]
  },
  {
   "cell_type": "code",
   "execution_count": 91,
   "id": "3ee130c2",
   "metadata": {},
   "outputs": [],
   "source": [
    "scaler = StandardScaler()\n",
    "numerical_features = ['total_spent', 'avg_transaction_value', 'total_transactions', 'total_quantity']\n",
    "numerical_scaled = pd.DataFrame(\n",
    "    scaler.fit_transform(customer_profiles[numerical_features]),\n",
    "    columns=numerical_features,\n",
    "    index=customer_profiles.index\n",
    ")\n"
   ]
  },
  {
   "cell_type": "code",
   "execution_count": 92,
   "id": "10541a26",
   "metadata": {},
   "outputs": [],
   "source": [
    "profile_features = pd.concat([numerical_scaled, categories_encoded, regions_encoded], axis=1)"
   ]
  },
  {
   "cell_type": "code",
   "execution_count": 93,
   "id": "b6c58d3a",
   "metadata": {},
   "outputs": [],
   "source": [
    "pca = PCA(n_components=10)  \n",
    "profile_features_pca = pd.DataFrame(\n",
    "    pca.fit_transform(profile_features),\n",
    "    index=profile_features.index\n",
    ")"
   ]
  },
  {
   "cell_type": "markdown",
   "id": "f75b2d20",
   "metadata": {},
   "source": [
    "# Cosine similarity"
   ]
  },
  {
   "cell_type": "code",
   "execution_count": 94,
   "id": "ae404c61",
   "metadata": {},
   "outputs": [],
   "source": [
    "similarity_matrix = cosine_similarity(profile_features_pca)"
   ]
  },
  {
   "cell_type": "code",
   "execution_count": 95,
   "id": "1a5526d3",
   "metadata": {},
   "outputs": [],
   "source": [
    "customer_ids = customer_profiles['CustomerID'].values\n",
    "top_20_indices = [i for i, cust_id in enumerate(customer_ids) if cust_id.startswith('C00')][:20]"
   ]
  },
  {
   "cell_type": "code",
   "execution_count": 96,
   "id": "90711a7e",
   "metadata": {},
   "outputs": [],
   "source": [
    "lookalike_results = {}\n",
    "for idx in top_20_indices:\n",
    "    similar_indices = similarity_matrix[idx].argsort()[-4:-1][::-1]  # Exclude self and get top 3\n",
    "    similar_customers = [(customer_ids[i], round(similarity_matrix[idx, i], 4)) for i in similar_indices]\n",
    "    lookalike_results[customer_ids[idx]] = similar_customers"
   ]
  },
  {
   "cell_type": "code",
   "execution_count": 97,
   "id": "62768bb9",
   "metadata": {},
   "outputs": [],
   "source": [
    "lookalike_data = []\n",
    "for cust_id, lookalikes in lookalike_results.items():\n",
    "    lookalike_data.append({\n",
    "        \"cust_id\": cust_id,\n",
    "        \"lookalikes\": str(lookalikes)  # Store as string for CSV\n",
    "    })\n"
   ]
  },
  {
   "cell_type": "markdown",
   "id": "6adf49de",
   "metadata": {},
   "source": [
    "# Saving to csv file"
   ]
  },
  {
   "cell_type": "code",
   "execution_count": 100,
   "id": "94cf9bfb",
   "metadata": {},
   "outputs": [],
   "source": [
    "lookalike_df = pd.DataFrame(lookalike_data)\n",
    "lookalike_df.to_csv('SKSai_Tarun_Lookalike.csv', index=False)"
   ]
  },
  {
   "cell_type": "markdown",
   "id": "698f9bfa",
   "metadata": {},
   "source": [
    "# Cosine Similarity Distribution"
   ]
  },
  {
   "cell_type": "code",
   "execution_count": 99,
   "id": "87224e63",
   "metadata": {},
   "outputs": [
    {
     "data": {
      "image/png": "[encoded data removed]",
      "text/plain": [
       "<Figure size 640x480 with 1 Axes>"
      ]
     },
     "metadata": {},
     "output_type": "display_data"
    }
   ],
   "source": [
    "import matplotlib.pyplot as plt\n",
    "similarities = similarity_matrix[np.triu_indices(len(similarity_matrix), k=1)]  # Upper triangular values only\n",
    "plt.hist(similarities, bins=30, edgecolor='black')\n",
    "plt.title(\"Cosine Similarity Distribution\")\n",
    "plt.xlabel(\"Similarity Score\")\n",
    "plt.ylabel(\"Frequency\")\n",
    "plt.show()"
   ]
  },
  {
   "cell_type": "code",
   "execution_count": null,
   "id": "939efb73",
   "metadata": {},
   "outputs": [],
   "source": []
  },
  {
   "cell_type": "code",
   "execution_count": null,
   "id": "a299976e",
   "metadata": {},
   "outputs": [],
   "source": []
  }
 ],
 "metadata": {
  "kernelspec": {
   "display_name": "Python 3 (ipykernel)",
   "language": "python",
   "name": "python3"
  },
  "language_info": {
   "codemirror_mode": {
    "name": "ipython",
    "version": 3
   },
   "file_extension": ".py",
   "mimetype": "text/x-python",
   "name": "python",
   "nbconvert_exporter": "python",
   "pygments_lexer": "ipython3",
   "version": "3.11.5"
  }
 },
 "nbformat": 4,
 "nbformat_minor": 5
}
